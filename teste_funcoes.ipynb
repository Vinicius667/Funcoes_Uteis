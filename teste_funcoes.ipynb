{
 "cells": [
  {
   "cell_type": "code",
   "execution_count": 1,
   "metadata": {},
   "outputs": [],
   "source": [
    "import pandas as pd\n",
    "import glob\n",
    "from funcoes_uteis import *\n",
    "import numpy as np"
   ]
  },
  {
   "cell_type": "markdown",
   "metadata": {},
   "source": [
    "# Testando validar_cnpj() e formatar_cnpj()"
   ]
  },
  {
   "cell_type": "code",
   "execution_count": 2,
   "metadata": {},
   "outputs": [
    {
     "data": {
      "text/html": [
       "<div>\n",
       "<style scoped>\n",
       "    .dataframe tbody tr th:only-of-type {\n",
       "        vertical-align: middle;\n",
       "    }\n",
       "\n",
       "    .dataframe tbody tr th {\n",
       "        vertical-align: top;\n",
       "    }\n",
       "\n",
       "    .dataframe thead th {\n",
       "        text-align: right;\n",
       "    }\n",
       "</style>\n",
       "<table border=\"1\" class=\"dataframe\">\n",
       "  <thead>\n",
       "    <tr style=\"text-align: right;\">\n",
       "      <th></th>\n",
       "      <th>Empresa</th>\n",
       "      <th>CNPJ</th>\n",
       "    </tr>\n",
       "  </thead>\n",
       "  <tbody>\n",
       "    <tr>\n",
       "      <th>1</th>\n",
       "      <td>AES TIETE ENERGIA SA</td>\n",
       "      <td>4128563000110</td>\n",
       "    </tr>\n",
       "    <tr>\n",
       "      <th>3</th>\n",
       "      <td>ALEF S.A.</td>\n",
       "      <td>123456789</td>\n",
       "    </tr>\n",
       "    <tr>\n",
       "      <th>5</th>\n",
       "      <td>ALGAR TELECOM S/A</td>\n",
       "      <td>71208516000174</td>\n",
       "    </tr>\n",
       "    <tr>\n",
       "      <th>7</th>\n",
       "      <td>ALLPARK EMPREENDIMENTOS PARTICIPACOES SERVICOS...</td>\n",
       "      <td>60537263000166</td>\n",
       "    </tr>\n",
       "    <tr>\n",
       "      <th>9</th>\n",
       "      <td>ALPER CONSULTORIA E CORRETORA DE SEGUROS S.A.</td>\n",
       "      <td>11721921000160</td>\n",
       "    </tr>\n",
       "  </tbody>\n",
       "</table>\n",
       "</div>"
      ],
      "text/plain": [
       "                                             Empresa            CNPJ\n",
       "1                               AES TIETE ENERGIA SA   4128563000110\n",
       "3                                          ALEF S.A.       123456789\n",
       "5                                  ALGAR TELECOM S/A  71208516000174\n",
       "7  ALLPARK EMPREENDIMENTOS PARTICIPACOES SERVICOS...  60537263000166\n",
       "9      ALPER CONSULTORIA E CORRETORA DE SEGUROS S.A.  11721921000160"
      ]
     },
     "execution_count": 2,
     "metadata": {},
     "output_type": "execute_result"
    }
   ],
   "source": [
    "# Prepara arquivos\n",
    "\n",
    "# Baixa tabela para testes e a salva\n",
    "#empresas_listadas_B3 = pd.read_html(\"https://investidorsardinha.r7.com/geral/todos-os-cnpj-das-empresas-listadas-na-b3-a-bolsa-de-valores-brasileira/\",header=0)[0][[\"Empresa\",\"CNPJ\"]]\n",
    "#empresas_listadas_B3.to_csv(\"./Inputs/empresas_listadas_B3.csv\")\n",
    "\n",
    "colunas = [\"Empresa\",\"CNPJ\"]\n",
    "\n",
    "\n",
    "empresas_listadas_B3 = pd.read_csv(\"./Inputs/empresas_listadas_B3.csv\")[colunas]\n",
    "\n",
    "# Tira formatação para testar funções. Não é necessário, entretanto, que a coluna seja formatada como inteiro\n",
    "empresas_listadas_B3.CNPJ = empresas_listadas_B3.CNPJ.str.replace(\"\\W\",\"\",regex=True).astype(np.int64)\n",
    "\n",
    "# Mantém apenas índices ímpares para testar se são retornados os índices corretos\n",
    "empresas_listadas_B3 = empresas_listadas_B3[empresas_listadas_B3.index % 2 == 1]\n",
    "\n",
    "# Muda CNPJ para número alétório\n",
    "empresas_listadas_B3.loc[3,\"CNPJ\"] = 123456789\n",
    "\n",
    "empresas_listadas_B3.head()"
   ]
  },
  {
   "cell_type": "code",
   "execution_count": 3,
   "metadata": {},
   "outputs": [
    {
     "name": "stdout",
     "output_type": "stream",
     "text": [
      "2 CNPJs inválidos:\n"
     ]
    },
    {
     "data": {
      "text/plain": [
       "3      00.000.123/4567-89\n",
       "285    67.260.377/0001-14\n",
       "Name: CNPJ, dtype: object"
      ]
     },
     "metadata": {},
     "output_type": "display_data"
    }
   ],
   "source": [
    "#  Formata CNPJs, checa validade mas não retorna erro\n",
    "empresas_listadas_B3.CNPJ = formatar_cnpj(empresas_listadas_B3.CNPJ,check_val=True,on_error=\"pass\")"
   ]
  },
  {
   "cell_type": "code",
   "execution_count": 4,
   "metadata": {},
   "outputs": [
    {
     "data": {
      "text/html": [
       "<div>\n",
       "<style scoped>\n",
       "    .dataframe tbody tr th:only-of-type {\n",
       "        vertical-align: middle;\n",
       "    }\n",
       "\n",
       "    .dataframe tbody tr th {\n",
       "        vertical-align: top;\n",
       "    }\n",
       "\n",
       "    .dataframe thead th {\n",
       "        text-align: right;\n",
       "    }\n",
       "</style>\n",
       "<table border=\"1\" class=\"dataframe\">\n",
       "  <thead>\n",
       "    <tr style=\"text-align: right;\">\n",
       "      <th></th>\n",
       "      <th>Empresa</th>\n",
       "      <th>CNPJ</th>\n",
       "      <th>Validade</th>\n",
       "    </tr>\n",
       "  </thead>\n",
       "  <tbody>\n",
       "    <tr>\n",
       "      <th>1</th>\n",
       "      <td>AES TIETE ENERGIA SA</td>\n",
       "      <td>04.128.563/0001-10</td>\n",
       "      <td>True</td>\n",
       "    </tr>\n",
       "    <tr>\n",
       "      <th>3</th>\n",
       "      <td>ALEF S.A.</td>\n",
       "      <td>00.000.123/4567-89</td>\n",
       "      <td>False</td>\n",
       "    </tr>\n",
       "    <tr>\n",
       "      <th>5</th>\n",
       "      <td>ALGAR TELECOM S/A</td>\n",
       "      <td>71.208.516/0001-74</td>\n",
       "      <td>True</td>\n",
       "    </tr>\n",
       "    <tr>\n",
       "      <th>7</th>\n",
       "      <td>ALLPARK EMPREENDIMENTOS PARTICIPACOES SERVICOS...</td>\n",
       "      <td>60.537.263/0001-66</td>\n",
       "      <td>True</td>\n",
       "    </tr>\n",
       "    <tr>\n",
       "      <th>9</th>\n",
       "      <td>ALPER CONSULTORIA E CORRETORA DE SEGUROS S.A.</td>\n",
       "      <td>11.721.921/0001-60</td>\n",
       "      <td>True</td>\n",
       "    </tr>\n",
       "  </tbody>\n",
       "</table>\n",
       "</div>"
      ],
      "text/plain": [
       "                                             Empresa                CNPJ  \\\n",
       "1                               AES TIETE ENERGIA SA  04.128.563/0001-10   \n",
       "3                                          ALEF S.A.  00.000.123/4567-89   \n",
       "5                                  ALGAR TELECOM S/A  71.208.516/0001-74   \n",
       "7  ALLPARK EMPREENDIMENTOS PARTICIPACOES SERVICOS...  60.537.263/0001-66   \n",
       "9      ALPER CONSULTORIA E CORRETORA DE SEGUROS S.A.  11.721.921/0001-60   \n",
       "\n",
       "   Validade  \n",
       "1      True  \n",
       "3     False  \n",
       "5      True  \n",
       "7      True  \n",
       "9      True  "
      ]
     },
     "execution_count": 4,
     "metadata": {},
     "output_type": "execute_result"
    }
   ],
   "source": [
    "# Com a coluna formatada, pode-se guardar a o resultado da validação\n",
    "empresas_listadas_B3[\"Validade\"] = validar_cnpj(empresas_listadas_B3.CNPJ)\n",
    "empresas_listadas_B3.head()"
   ]
  },
  {
   "cell_type": "markdown",
   "metadata": {},
   "source": [
    "# Testando sheet_to_parquet"
   ]
  },
  {
   "cell_type": "code",
   "execution_count": 5,
   "metadata": {},
   "outputs": [],
   "source": [
    "# Prepara arquivos\n",
    "empresas_listadas_B3 = pd.read_csv(\"./Inputs/empresas_listadas_B3.csv\")[colunas]\n",
    "empresas_listadas_B3[empresas_listadas_B3.index %2 == 0].to_csv(\"./Inputs/impar_par/empresas_listadas_B3_par.csv\")\n",
    "empresas_listadas_B3[empresas_listadas_B3.index %2 == 1].to_csv(\"./Inputs/impar_par/empresas_listadas_B3_impar.csv\")"
   ]
  },
  {
   "cell_type": "code",
   "execution_count": 6,
   "metadata": {},
   "outputs": [],
   "source": [
    "file_paths = glob.glob(\"./Inputs/impar_par/*.csv\")"
   ]
  },
  {
   "cell_type": "code",
   "execution_count": 7,
   "metadata": {},
   "outputs": [
    {
     "name": "stdout",
     "output_type": "stream",
     "text": [
      "Lendo arquivo: ./Inputs/impar_par\\empresas_listadas_B3_impar.csv\n",
      "./Inputs/impar_par/Parquets/\n",
      "Salvando em diretório: ./Inputs/impar_par/Parquets/\n",
      "Criando arquivo: ./Inputs/impar_par/Parquets/empresas_listadas_B3_impar.gzip\n",
      "Lendo arquivo: ./Inputs/impar_par\\empresas_listadas_B3_par.csv\n",
      "./Inputs/impar_par/Parquets/\n",
      "Salvando em diretório: ./Inputs/impar_par/Parquets/\n",
      "Criando arquivo: ./Inputs/impar_par/Parquets/empresas_listadas_B3_par.gzip\n"
     ]
    }
   ],
   "source": [
    "# Lê arquivos, concatena, e cria arquivos parquet\n",
    "empresas_listadas_B3_impar_e_par = sheet_to_parquet(file_paths,colunas,colunas_sem_repetir=[\"CNPJ\"],ignore_parquets=True)"
   ]
  },
  {
   "cell_type": "code",
   "execution_count": 10,
   "metadata": {},
   "outputs": [
    {
     "name": "stdout",
     "output_type": "stream",
     "text": [
      "Lendo arquivo: ./Inputs/impar_par/Parquets/empresas_listadas_B3_impar.gzip\n",
      "Lendo arquivo: ./Inputs/impar_par/Parquets/empresas_listadas_B3_par.gzip\n"
     ]
    },
    {
     "data": {
      "text/html": [
       "<div>\n",
       "<style scoped>\n",
       "    .dataframe tbody tr th:only-of-type {\n",
       "        vertical-align: middle;\n",
       "    }\n",
       "\n",
       "    .dataframe tbody tr th {\n",
       "        vertical-align: top;\n",
       "    }\n",
       "\n",
       "    .dataframe thead th {\n",
       "        text-align: right;\n",
       "    }\n",
       "</style>\n",
       "<table border=\"1\" class=\"dataframe\">\n",
       "  <thead>\n",
       "    <tr style=\"text-align: right;\">\n",
       "      <th></th>\n",
       "      <th>Empresa</th>\n",
       "      <th>CNPJ</th>\n",
       "    </tr>\n",
       "  </thead>\n",
       "  <tbody>\n",
       "    <tr>\n",
       "      <th>0</th>\n",
       "      <td>AES TIETE ENERGIA SA</td>\n",
       "      <td>04.128.563/0001-10</td>\n",
       "    </tr>\n",
       "    <tr>\n",
       "      <th>1</th>\n",
       "      <td>ALEF S.A.</td>\n",
       "      <td>02.217.319/0001-07</td>\n",
       "    </tr>\n",
       "    <tr>\n",
       "      <th>2</th>\n",
       "      <td>ALGAR TELECOM S/A</td>\n",
       "      <td>71.208.516/0001-74</td>\n",
       "    </tr>\n",
       "    <tr>\n",
       "      <th>3</th>\n",
       "      <td>ALLPARK EMPREENDIMENTOS PARTICIPACOES SERVICOS...</td>\n",
       "      <td>60.537.263/0001-66</td>\n",
       "    </tr>\n",
       "    <tr>\n",
       "      <th>4</th>\n",
       "      <td>ALPER CONSULTORIA E CORRETORA DE SEGUROS S.A.</td>\n",
       "      <td>11.721.921/0001-60</td>\n",
       "    </tr>\n",
       "  </tbody>\n",
       "</table>\n",
       "</div>"
      ],
      "text/plain": [
       "                                             Empresa                CNPJ\n",
       "0                               AES TIETE ENERGIA SA  04.128.563/0001-10\n",
       "1                                          ALEF S.A.  02.217.319/0001-07\n",
       "2                                  ALGAR TELECOM S/A  71.208.516/0001-74\n",
       "3  ALLPARK EMPREENDIMENTOS PARTICIPACOES SERVICOS...  60.537.263/0001-66\n",
       "4      ALPER CONSULTORIA E CORRETORA DE SEGUROS S.A.  11.721.921/0001-60"
      ]
     },
     "execution_count": 10,
     "metadata": {},
     "output_type": "execute_result"
    }
   ],
   "source": [
    "# Ao tentar ler novamente, lê-se os parquets\n",
    "empresas_listadas_B3_impar_e_par = sheet_to_parquet(file_paths,colunas,colunas_sem_repetir=[\"CNPJ\"])\n",
    "empresas_listadas_B3_impar_e_par.head()"
   ]
  }
 ],
 "metadata": {
  "kernelspec": {
   "display_name": "Python 3.9.7 ('base')",
   "language": "python",
   "name": "python3"
  },
  "language_info": {
   "codemirror_mode": {
    "name": "ipython",
    "version": 3
   },
   "file_extension": ".py",
   "mimetype": "text/x-python",
   "name": "python",
   "nbconvert_exporter": "python",
   "pygments_lexer": "ipython3",
   "version": "3.9.7"
  },
  "orig_nbformat": 4,
  "vscode": {
   "interpreter": {
    "hash": "8c626e71636d8d0f1e7f56e3cddf2a792811bdbb2fd626397ff18147d6bb7bb2"
   }
  }
 },
 "nbformat": 4,
 "nbformat_minor": 2
}
